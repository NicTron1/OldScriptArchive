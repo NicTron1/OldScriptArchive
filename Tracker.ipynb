{
 "cells": [
  {
   "cell_type": "code",
   "execution_count": 1,
   "metadata": {},
   "outputs": [],
   "source": [
    "from datetime import date"
   ]
  },
  {
   "cell_type": "code",
   "execution_count": 2,
   "metadata": {},
   "outputs": [],
   "source": [
    "import datetime"
   ]
  },
  {
   "cell_type": "code",
   "execution_count": 3,
   "metadata": {},
   "outputs": [],
   "source": [
    "from datetime import datetime, timedelta"
   ]
  },
  {
   "cell_type": "code",
   "execution_count": 4,
   "metadata": {},
   "outputs": [],
   "source": [
    "import pandas as pd"
   ]
  },
  {
   "cell_type": "code",
   "execution_count": 5,
   "metadata": {},
   "outputs": [],
   "source": [
    "import time"
   ]
  },
  {
   "cell_type": "code",
   "execution_count": 6,
   "metadata": {},
   "outputs": [],
   "source": [
    "from pytrends.request import TrendReq"
   ]
  },
  {
   "cell_type": "code",
   "execution_count": 7,
   "metadata": {},
   "outputs": [],
   "source": [
    "date = datetime.now()"
   ]
  },
  {
   "cell_type": "code",
   "execution_count": 8,
   "metadata": {},
   "outputs": [],
   "source": [
    "yesterday = datetime.now() - timedelta(7)"
   ]
  },
  {
   "cell_type": "code",
   "execution_count": 9,
   "metadata": {},
   "outputs": [],
   "source": [
    "current_year=date.year"
   ]
  },
  {
   "cell_type": "code",
   "execution_count": 10,
   "metadata": {},
   "outputs": [],
   "source": [
    "current_month=date.month"
   ]
  },
  {
   "cell_type": "code",
   "execution_count": 11,
   "metadata": {},
   "outputs": [],
   "source": [
    "current_day=date.day"
   ]
  },
  {
   "cell_type": "code",
   "execution_count": 12,
   "metadata": {},
   "outputs": [],
   "source": [
    "yester_month=yesterday.month"
   ]
  },
  {
   "cell_type": "code",
   "execution_count": 13,
   "metadata": {},
   "outputs": [],
   "source": [
    "yester_year=yesterday.year"
   ]
  },
  {
   "cell_type": "code",
   "execution_count": 14,
   "metadata": {},
   "outputs": [],
   "source": [
    "yester_day=yesterday.day"
   ]
  },
  {
   "cell_type": "code",
   "execution_count": 15,
   "metadata": {},
   "outputs": [],
   "source": [
    "pytrend = TrendReq()"
   ]
  },
  {
   "cell_type": "code",
   "execution_count": 16,
   "metadata": {},
   "outputs": [],
   "source": [
    "nas_list = pd.read_excel('./NL.xlsx')"
   ]
  },
  {
   "cell_type": "code",
   "execution_count": 17,
   "metadata": {},
   "outputs": [],
   "source": [
    "last_pos=nas_list.at[0, 'Last Position']"
   ]
  },
  {
   "cell_type": "code",
   "execution_count": 18,
   "metadata": {},
   "outputs": [],
   "source": [
    "if last_pos == len(nas_list):\n",
    "    count=0\n",
    "    amount=600\n",
    "elif last_pos == 600:\n",
    "    count=600\n",
    "    amount=1200\n",
    "elif last_pos == 1200:\n",
    "    count=1200\n",
    "    amount=1800\n",
    "elif last_pos == 1800:\n",
    "    count = 1800\n",
    "    amount=2400\n",
    "elif last_pos == 2400:\n",
    "    count=2400\n",
    "    amount=3000\n",
    "elif last_pos == 3000:\n",
    "    count=3000\n",
    "    amount=len(nas_list)"
   ]
  },
  {
   "cell_type": "code",
   "execution_count": 19,
   "metadata": {},
   "outputs": [],
   "source": [
    "gains_list = [\"!\"]"
   ]
  },
  {
   "cell_type": "code",
   "execution_count": null,
   "metadata": {},
   "outputs": [],
   "source": [
    "while count < amount:\n",
    "    tik = nas_list.at[count, 'Symbol']\n",
    "    ftik = [\"$\"+str(tik)]\n",
    "    \n",
    "    df=pytrend.get_historical_interest(ftik, year_start=yester_year, month_start=yester_month, day_start=yester_day, hour_start=0, year_end=current_year, month_end=current_month, day_end=current_day, hour_end=0, cat='12', geo='US' )\n",
    "    \n",
    "    new_df = df[::-1]\n",
    "    res = new_df.iloc[0:24]\n",
    "    raw_list=['!']\n",
    "    pos=0\n",
    "    \n",
    "    while pos < len(res):\n",
    "        cnt = res.iat[pos, 0]\n",
    "        raw_list.append(cnt)\n",
    "        pos+=1\n",
    "    \n",
    "    raw_list.reverse()\n",
    "    raw_list.pop()\n",
    "    if len(raw_list) > 0:\n",
    "        avg = sum(raw_list)/len(raw_list)\n",
    "    elif len(raw_list) == 0:\n",
    "        avg = 0\n",
    "        \n",
    "    #yes = nas_list.at[count, 'Mentions Yesterday']\n",
    "    #change = avg-yes\n",
    "    #dec = change/yes\n",
    "    #perc = dec*100\n",
    "    \n",
    "    #msg = str(perc)+\":\"+ftik\n",
    "    #gains_list.append(msg)\n",
    "    \n",
    "    nas_list.at[count, 'Mentions Yesterday']=avg\n",
    "    time.sleep(1)\n",
    "    \n",
    "    count += 1\n",
    "    nas_list.at[0, 'Last Position']=count"
   ]
  },
  {
   "cell_type": "code",
   "execution_count": 21,
   "metadata": {},
   "outputs": [],
   "source": [
    "nas_list.to_excel('./NL.xlsx')"
   ]
  },
  {
   "cell_type": "code",
   "execution_count": 119,
   "metadata": {},
   "outputs": [],
   "source": [
    "gains_list.sort()"
   ]
  },
  {
   "cell_type": "code",
   "execution_count": 132,
   "metadata": {},
   "outputs": [],
   "source": [
    "gains_list.reverse()"
   ]
  },
  {
   "cell_type": "code",
   "execution_count": 138,
   "metadata": {},
   "outputs": [],
   "source": [
    "gains_list.pop()"
   ]
  },
  {
   "cell_type": "code",
   "execution_count": 178,
   "metadata": {},
   "outputs": [],
   "source": [
    "total = len(gains_list)"
   ]
  },
  {
   "cell_type": "code",
   "execution_count": 179,
   "metadata": {},
   "outputs": [],
   "source": [
    "strt = 0"
   ]
  },
  {
   "cell_type": "code",
   "execution_count": 180,
   "metadata": {},
   "outputs": [],
   "source": [
    "with open('Hype.txt', 'w') as f:\n",
    "    while strt < total:\n",
    "        f.write(\"%s\\n\" % gains_list[strt])\n",
    "        strt+=1"
   ]
  },
  {
   "cell_type": "code",
   "execution_count": 182,
   "metadata": {},
   "outputs": [],
   "source": [
    "f.close()"
   ]
  },
  {
   "cell_type": "code",
   "execution_count": 185,
   "metadata": {},
   "outputs": [
    {
     "data": {
      "text/plain": [
       "'!'"
      ]
     },
     "execution_count": 185,
     "metadata": {},
     "output_type": "execute_result"
    }
   ],
   "source": []
  },
  {
   "cell_type": "code",
   "execution_count": 186,
   "metadata": {},
   "outputs": [],
   "source": []
  },
  {
   "cell_type": "code",
   "execution_count": 256,
   "metadata": {},
   "outputs": [
    {
     "data": {
      "text/plain": [
       "3647"
      ]
     },
     "execution_count": 256,
     "metadata": {},
     "output_type": "execute_result"
    }
   ],
   "source": []
  },
  {
   "cell_type": "code",
   "execution_count": null,
   "metadata": {},
   "outputs": [],
   "source": []
  }
 ],
 "metadata": {
  "kernelspec": {
   "display_name": "Python 3",
   "language": "python",
   "name": "python3"
  },
  "language_info": {
   "codemirror_mode": {
    "name": "ipython",
    "version": 3
   },
   "file_extension": ".py",
   "mimetype": "text/x-python",
   "name": "python",
   "nbconvert_exporter": "python",
   "pygments_lexer": "ipython3",
   "version": "3.8.3"
  }
 },
 "nbformat": 4,
 "nbformat_minor": 4
}
